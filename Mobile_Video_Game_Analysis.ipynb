{
 "cells": [
  {
   "cell_type": "markdown",
   "id": "0f6db5a8",
   "metadata": {},
   "source": [
    "## Importing the Libraries"
   ]
  },
  {
   "cell_type": "code",
   "execution_count": 1,
   "id": "f4766e1f",
   "metadata": {},
   "outputs": [],
   "source": [
    "import pandas as pd\n",
    "import numpy as np\n",
    "import seaborn as sns\n",
    "import datetime\n",
    "import warnings\n",
    "%matplotlib inline\n",
    "import matplotlib.pyplot as plt\n",
    "warnings.filterwarnings('ignore')"
   ]
  },
  {
   "cell_type": "markdown",
   "id": "a478928e",
   "metadata": {},
   "source": [
    "## Importing the Data"
   ]
  },
  {
   "cell_type": "code",
   "execution_count": 2,
   "id": "b6dbabb0",
   "metadata": {},
   "outputs": [],
   "source": [
    "df = pd.read_csv('play_test.csv')"
   ]
  },
  {
   "cell_type": "code",
   "execution_count": 3,
   "id": "51bf278b",
   "metadata": {},
   "outputs": [
    {
     "data": {
      "text/html": [
       "<div>\n",
       "<style scoped>\n",
       "    .dataframe tbody tr th:only-of-type {\n",
       "        vertical-align: middle;\n",
       "    }\n",
       "\n",
       "    .dataframe tbody tr th {\n",
       "        vertical-align: top;\n",
       "    }\n",
       "\n",
       "    .dataframe thead th {\n",
       "        text-align: right;\n",
       "    }\n",
       "</style>\n",
       "<table border=\"1\" class=\"dataframe\">\n",
       "  <thead>\n",
       "    <tr style=\"text-align: right;\">\n",
       "      <th></th>\n",
       "      <th>u_id</th>\n",
       "      <th>cleared_stage</th>\n",
       "      <th>retry_count</th>\n",
       "      <th>score</th>\n",
       "      <th>stars</th>\n",
       "      <th>stage_id</th>\n",
       "      <th>date</th>\n",
       "      <th>time</th>\n",
       "      <th>obs_index</th>\n",
       "    </tr>\n",
       "  </thead>\n",
       "  <tbody>\n",
       "    <tr>\n",
       "      <th>0</th>\n",
       "      <td>100000101</td>\n",
       "      <td>True</td>\n",
       "      <td>0.0</td>\n",
       "      <td>0.0</td>\n",
       "      <td>0.0</td>\n",
       "      <td>1</td>\n",
       "      <td>2015-03-12</td>\n",
       "      <td>04:17:04</td>\n",
       "      <td>10814</td>\n",
       "    </tr>\n",
       "    <tr>\n",
       "      <th>1</th>\n",
       "      <td>100000101</td>\n",
       "      <td>True</td>\n",
       "      <td>0.0</td>\n",
       "      <td>0.0</td>\n",
       "      <td>0.0</td>\n",
       "      <td>2</td>\n",
       "      <td>2015-03-12</td>\n",
       "      <td>13:53:47</td>\n",
       "      <td>10815</td>\n",
       "    </tr>\n",
       "    <tr>\n",
       "      <th>2</th>\n",
       "      <td>100000101</td>\n",
       "      <td>True</td>\n",
       "      <td>0.0</td>\n",
       "      <td>0.0</td>\n",
       "      <td>0.0</td>\n",
       "      <td>3</td>\n",
       "      <td>2015-03-12</td>\n",
       "      <td>13:58:09</td>\n",
       "      <td>10816</td>\n",
       "    </tr>\n",
       "    <tr>\n",
       "      <th>3</th>\n",
       "      <td>100000101</td>\n",
       "      <td>True</td>\n",
       "      <td>0.0</td>\n",
       "      <td>0.0</td>\n",
       "      <td>0.0</td>\n",
       "      <td>4</td>\n",
       "      <td>2015-03-12</td>\n",
       "      <td>14:39:40</td>\n",
       "      <td>10817</td>\n",
       "    </tr>\n",
       "    <tr>\n",
       "      <th>4</th>\n",
       "      <td>100000101</td>\n",
       "      <td>True</td>\n",
       "      <td>0.0</td>\n",
       "      <td>0.0</td>\n",
       "      <td>0.0</td>\n",
       "      <td>5</td>\n",
       "      <td>2015-03-12</td>\n",
       "      <td>14:44:02</td>\n",
       "      <td>10818</td>\n",
       "    </tr>\n",
       "    <tr>\n",
       "      <th>...</th>\n",
       "      <td>...</td>\n",
       "      <td>...</td>\n",
       "      <td>...</td>\n",
       "      <td>...</td>\n",
       "      <td>...</td>\n",
       "      <td>...</td>\n",
       "      <td>...</td>\n",
       "      <td>...</td>\n",
       "      <td>...</td>\n",
       "    </tr>\n",
       "    <tr>\n",
       "      <th>405125</th>\n",
       "      <td>103212776</td>\n",
       "      <td>True</td>\n",
       "      <td>0.0</td>\n",
       "      <td>0.0</td>\n",
       "      <td>0.0</td>\n",
       "      <td>3</td>\n",
       "      <td>2019-06-09</td>\n",
       "      <td>01:04:00</td>\n",
       "      <td>96708510</td>\n",
       "    </tr>\n",
       "    <tr>\n",
       "      <th>405126</th>\n",
       "      <td>103213122</td>\n",
       "      <td>True</td>\n",
       "      <td>0.0</td>\n",
       "      <td>0.0</td>\n",
       "      <td>0.0</td>\n",
       "      <td>1</td>\n",
       "      <td>2019-06-08</td>\n",
       "      <td>14:49:01</td>\n",
       "      <td>96712350</td>\n",
       "    </tr>\n",
       "    <tr>\n",
       "      <th>405127</th>\n",
       "      <td>103213122</td>\n",
       "      <td>True</td>\n",
       "      <td>0.0</td>\n",
       "      <td>0.0</td>\n",
       "      <td>0.0</td>\n",
       "      <td>2</td>\n",
       "      <td>2019-06-08</td>\n",
       "      <td>14:51:01</td>\n",
       "      <td>96712351</td>\n",
       "    </tr>\n",
       "    <tr>\n",
       "      <th>405128</th>\n",
       "      <td>103213122</td>\n",
       "      <td>True</td>\n",
       "      <td>0.0</td>\n",
       "      <td>0.0</td>\n",
       "      <td>0.0</td>\n",
       "      <td>3</td>\n",
       "      <td>2019-06-08</td>\n",
       "      <td>14:53:05</td>\n",
       "      <td>96712352</td>\n",
       "    </tr>\n",
       "    <tr>\n",
       "      <th>405129</th>\n",
       "      <td>103213122</td>\n",
       "      <td>True</td>\n",
       "      <td>NaN</td>\n",
       "      <td>NaN</td>\n",
       "      <td>NaN</td>\n",
       "      <td>4</td>\n",
       "      <td>2019-06-08</td>\n",
       "      <td>15:04:02</td>\n",
       "      <td>96712353</td>\n",
       "    </tr>\n",
       "  </tbody>\n",
       "</table>\n",
       "<p>405130 rows × 9 columns</p>\n",
       "</div>"
      ],
      "text/plain": [
       "             u_id  cleared_stage  retry_count  score  stars  stage_id  \\\n",
       "0       100000101           True          0.0    0.0    0.0         1   \n",
       "1       100000101           True          0.0    0.0    0.0         2   \n",
       "2       100000101           True          0.0    0.0    0.0         3   \n",
       "3       100000101           True          0.0    0.0    0.0         4   \n",
       "4       100000101           True          0.0    0.0    0.0         5   \n",
       "...           ...            ...          ...    ...    ...       ...   \n",
       "405125  103212776           True          0.0    0.0    0.0         3   \n",
       "405126  103213122           True          0.0    0.0    0.0         1   \n",
       "405127  103213122           True          0.0    0.0    0.0         2   \n",
       "405128  103213122           True          0.0    0.0    0.0         3   \n",
       "405129  103213122           True          NaN    NaN    NaN         4   \n",
       "\n",
       "              date      time  obs_index  \n",
       "0       2015-03-12  04:17:04      10814  \n",
       "1       2015-03-12  13:53:47      10815  \n",
       "2       2015-03-12  13:58:09      10816  \n",
       "3       2015-03-12  14:39:40      10817  \n",
       "4       2015-03-12  14:44:02      10818  \n",
       "...            ...       ...        ...  \n",
       "405125  2019-06-09  01:04:00   96708510  \n",
       "405126  2019-06-08  14:49:01   96712350  \n",
       "405127  2019-06-08  14:51:01   96712351  \n",
       "405128  2019-06-08  14:53:05   96712352  \n",
       "405129  2019-06-08  15:04:02   96712353  \n",
       "\n",
       "[405130 rows x 9 columns]"
      ]
     },
     "execution_count": 3,
     "metadata": {},
     "output_type": "execute_result"
    }
   ],
   "source": [
    "df"
   ]
  },
  {
   "cell_type": "markdown",
   "id": "f17774fb",
   "metadata": {},
   "source": [
    "## Checking for Missing Data"
   ]
  },
  {
   "cell_type": "code",
   "execution_count": 4,
   "id": "3e0ad66d",
   "metadata": {},
   "outputs": [
    {
     "data": {
      "text/plain": [
       "u_id                 0\n",
       "cleared_stage        0\n",
       "retry_count      43009\n",
       "score            43009\n",
       "stars            43009\n",
       "stage_id             0\n",
       "date                 0\n",
       "time                 0\n",
       "obs_index            0\n",
       "dtype: int64"
      ]
     },
     "execution_count": 4,
     "metadata": {},
     "output_type": "execute_result"
    }
   ],
   "source": [
    "df.isnull().sum()"
   ]
  },
  {
   "cell_type": "markdown",
   "id": "19ea77be",
   "metadata": {},
   "source": [
    "As we can see, there are 43,009 rows with missing values concerning the retry_count, score, and stars columns. While there are multiple ways we can deal with missing data (e.g. imputing with mean value), we will decide to simply drop all rows that have NaN values. This will simplify the dataset and won't come at a great cost since we still have plenty of data to work with."
   ]
  },
  {
   "cell_type": "code",
   "execution_count": 5,
   "id": "0a581cb5",
   "metadata": {},
   "outputs": [],
   "source": [
    "df.dropna(inplace=True)"
   ]
  },
  {
   "cell_type": "code",
   "execution_count": 6,
   "id": "239787ce",
   "metadata": {},
   "outputs": [
    {
     "data": {
      "text/plain": [
       "u_id             0\n",
       "cleared_stage    0\n",
       "retry_count      0\n",
       "score            0\n",
       "stars            0\n",
       "stage_id         0\n",
       "date             0\n",
       "time             0\n",
       "obs_index        0\n",
       "dtype: int64"
      ]
     },
     "execution_count": 6,
     "metadata": {},
     "output_type": "execute_result"
    }
   ],
   "source": [
    "df.isnull().sum()"
   ]
  },
  {
   "cell_type": "markdown",
   "id": "1e05b3ee",
   "metadata": {},
   "source": [
    "We can verify that indeed, we have no null values anymore."
   ]
  },
  {
   "cell_type": "markdown",
   "id": "94d5636f",
   "metadata": {},
   "source": [
    "## EDA"
   ]
  },
  {
   "cell_type": "markdown",
   "id": "08bf88cc",
   "metadata": {},
   "source": [
    "### Summary Statistics"
   ]
  },
  {
   "cell_type": "code",
   "execution_count": 7,
   "id": "1f6f1a04",
   "metadata": {},
   "outputs": [
    {
     "data": {
      "text/html": [
       "<div>\n",
       "<style scoped>\n",
       "    .dataframe tbody tr th:only-of-type {\n",
       "        vertical-align: middle;\n",
       "    }\n",
       "\n",
       "    .dataframe tbody tr th {\n",
       "        vertical-align: top;\n",
       "    }\n",
       "\n",
       "    .dataframe thead th {\n",
       "        text-align: right;\n",
       "    }\n",
       "</style>\n",
       "<table border=\"1\" class=\"dataframe\">\n",
       "  <thead>\n",
       "    <tr style=\"text-align: right;\">\n",
       "      <th></th>\n",
       "      <th>u_id</th>\n",
       "      <th>retry_count</th>\n",
       "      <th>score</th>\n",
       "      <th>stars</th>\n",
       "      <th>stage_id</th>\n",
       "      <th>obs_index</th>\n",
       "    </tr>\n",
       "  </thead>\n",
       "  <tbody>\n",
       "    <tr>\n",
       "      <th>count</th>\n",
       "      <td>3.621210e+05</td>\n",
       "      <td>362121.000000</td>\n",
       "      <td>3.621210e+05</td>\n",
       "      <td>362121.000000</td>\n",
       "      <td>362121.000000</td>\n",
       "      <td>3.621210e+05</td>\n",
       "    </tr>\n",
       "    <tr>\n",
       "      <th>mean</th>\n",
       "      <td>1.015695e+08</td>\n",
       "      <td>0.031619</td>\n",
       "      <td>2.062362e+06</td>\n",
       "      <td>0.688897</td>\n",
       "      <td>87.329462</td>\n",
       "      <td>4.870494e+07</td>\n",
       "    </tr>\n",
       "    <tr>\n",
       "      <th>std</th>\n",
       "      <td>8.706389e+05</td>\n",
       "      <td>0.270048</td>\n",
       "      <td>2.589924e+07</td>\n",
       "      <td>0.934186</td>\n",
       "      <td>303.475852</td>\n",
       "      <td>2.795856e+07</td>\n",
       "    </tr>\n",
       "    <tr>\n",
       "      <th>min</th>\n",
       "      <td>1.000001e+08</td>\n",
       "      <td>0.000000</td>\n",
       "      <td>0.000000e+00</td>\n",
       "      <td>0.000000</td>\n",
       "      <td>1.000000</td>\n",
       "      <td>1.081400e+04</td>\n",
       "    </tr>\n",
       "    <tr>\n",
       "      <th>25%</th>\n",
       "      <td>1.008297e+08</td>\n",
       "      <td>0.000000</td>\n",
       "      <td>0.000000e+00</td>\n",
       "      <td>0.000000</td>\n",
       "      <td>8.000000</td>\n",
       "      <td>2.351664e+07</td>\n",
       "    </tr>\n",
       "    <tr>\n",
       "      <th>50%</th>\n",
       "      <td>1.016286e+08</td>\n",
       "      <td>0.000000</td>\n",
       "      <td>1.104050e+05</td>\n",
       "      <td>0.000000</td>\n",
       "      <td>22.000000</td>\n",
       "      <td>5.028673e+07</td>\n",
       "    </tr>\n",
       "    <tr>\n",
       "      <th>75%</th>\n",
       "      <td>1.022716e+08</td>\n",
       "      <td>0.000000</td>\n",
       "      <td>5.691000e+05</td>\n",
       "      <td>1.000000</td>\n",
       "      <td>60.000000</td>\n",
       "      <td>7.328008e+07</td>\n",
       "    </tr>\n",
       "    <tr>\n",
       "      <th>max</th>\n",
       "      <td>1.032131e+08</td>\n",
       "      <td>18.000000</td>\n",
       "      <td>2.147484e+09</td>\n",
       "      <td>3.000000</td>\n",
       "      <td>2192.000000</td>\n",
       "      <td>9.671235e+07</td>\n",
       "    </tr>\n",
       "  </tbody>\n",
       "</table>\n",
       "</div>"
      ],
      "text/plain": [
       "               u_id    retry_count         score          stars  \\\n",
       "count  3.621210e+05  362121.000000  3.621210e+05  362121.000000   \n",
       "mean   1.015695e+08       0.031619  2.062362e+06       0.688897   \n",
       "std    8.706389e+05       0.270048  2.589924e+07       0.934186   \n",
       "min    1.000001e+08       0.000000  0.000000e+00       0.000000   \n",
       "25%    1.008297e+08       0.000000  0.000000e+00       0.000000   \n",
       "50%    1.016286e+08       0.000000  1.104050e+05       0.000000   \n",
       "75%    1.022716e+08       0.000000  5.691000e+05       1.000000   \n",
       "max    1.032131e+08      18.000000  2.147484e+09       3.000000   \n",
       "\n",
       "            stage_id     obs_index  \n",
       "count  362121.000000  3.621210e+05  \n",
       "mean       87.329462  4.870494e+07  \n",
       "std       303.475852  2.795856e+07  \n",
       "min         1.000000  1.081400e+04  \n",
       "25%         8.000000  2.351664e+07  \n",
       "50%        22.000000  5.028673e+07  \n",
       "75%        60.000000  7.328008e+07  \n",
       "max      2192.000000  9.671235e+07  "
      ]
     },
     "execution_count": 7,
     "metadata": {},
     "output_type": "execute_result"
    }
   ],
   "source": [
    "df.describe()"
   ]
  },
  {
   "cell_type": "markdown",
   "id": "a9822192",
   "metadata": {},
   "source": [
    "### Visualizing the Distribution of the Received Log Scores."
   ]
  },
  {
   "cell_type": "code",
   "execution_count": 8,
   "id": "90f18d2b",
   "metadata": {},
   "outputs": [],
   "source": [
    "df['log_score'] = np.log(df['score'] + 1)"
   ]
  },
  {
   "cell_type": "markdown",
   "id": "90e2c48a",
   "metadata": {},
   "source": [
    "We will first log-transform the score column to reduce the skewness of the data. Since a lot of the scores are 0, log-transforming scores of zero will result in an error since the logarithm of zero is undefined. To avoid this, we will add 1 to each score and then take the logarithm of this value. This will ensure consistency and will help us avoid the error."
   ]
  },
  {
   "cell_type": "code",
   "execution_count": 9,
   "id": "183d0499",
   "metadata": {},
   "outputs": [
    {
     "data": {
      "text/html": [
       "<div>\n",
       "<style scoped>\n",
       "    .dataframe tbody tr th:only-of-type {\n",
       "        vertical-align: middle;\n",
       "    }\n",
       "\n",
       "    .dataframe tbody tr th {\n",
       "        vertical-align: top;\n",
       "    }\n",
       "\n",
       "    .dataframe thead th {\n",
       "        text-align: right;\n",
       "    }\n",
       "</style>\n",
       "<table border=\"1\" class=\"dataframe\">\n",
       "  <thead>\n",
       "    <tr style=\"text-align: right;\">\n",
       "      <th></th>\n",
       "      <th>u_id</th>\n",
       "      <th>cleared_stage</th>\n",
       "      <th>retry_count</th>\n",
       "      <th>score</th>\n",
       "      <th>stars</th>\n",
       "      <th>stage_id</th>\n",
       "      <th>date</th>\n",
       "      <th>time</th>\n",
       "      <th>obs_index</th>\n",
       "      <th>log_score</th>\n",
       "    </tr>\n",
       "  </thead>\n",
       "  <tbody>\n",
       "    <tr>\n",
       "      <th>0</th>\n",
       "      <td>100000101</td>\n",
       "      <td>True</td>\n",
       "      <td>0.0</td>\n",
       "      <td>0.0</td>\n",
       "      <td>0.0</td>\n",
       "      <td>1</td>\n",
       "      <td>2015-03-12</td>\n",
       "      <td>04:17:04</td>\n",
       "      <td>10814</td>\n",
       "      <td>0.0</td>\n",
       "    </tr>\n",
       "    <tr>\n",
       "      <th>1</th>\n",
       "      <td>100000101</td>\n",
       "      <td>True</td>\n",
       "      <td>0.0</td>\n",
       "      <td>0.0</td>\n",
       "      <td>0.0</td>\n",
       "      <td>2</td>\n",
       "      <td>2015-03-12</td>\n",
       "      <td>13:53:47</td>\n",
       "      <td>10815</td>\n",
       "      <td>0.0</td>\n",
       "    </tr>\n",
       "    <tr>\n",
       "      <th>2</th>\n",
       "      <td>100000101</td>\n",
       "      <td>True</td>\n",
       "      <td>0.0</td>\n",
       "      <td>0.0</td>\n",
       "      <td>0.0</td>\n",
       "      <td>3</td>\n",
       "      <td>2015-03-12</td>\n",
       "      <td>13:58:09</td>\n",
       "      <td>10816</td>\n",
       "      <td>0.0</td>\n",
       "    </tr>\n",
       "    <tr>\n",
       "      <th>3</th>\n",
       "      <td>100000101</td>\n",
       "      <td>True</td>\n",
       "      <td>0.0</td>\n",
       "      <td>0.0</td>\n",
       "      <td>0.0</td>\n",
       "      <td>4</td>\n",
       "      <td>2015-03-12</td>\n",
       "      <td>14:39:40</td>\n",
       "      <td>10817</td>\n",
       "      <td>0.0</td>\n",
       "    </tr>\n",
       "    <tr>\n",
       "      <th>4</th>\n",
       "      <td>100000101</td>\n",
       "      <td>True</td>\n",
       "      <td>0.0</td>\n",
       "      <td>0.0</td>\n",
       "      <td>0.0</td>\n",
       "      <td>5</td>\n",
       "      <td>2015-03-12</td>\n",
       "      <td>14:44:02</td>\n",
       "      <td>10818</td>\n",
       "      <td>0.0</td>\n",
       "    </tr>\n",
       "    <tr>\n",
       "      <th>...</th>\n",
       "      <td>...</td>\n",
       "      <td>...</td>\n",
       "      <td>...</td>\n",
       "      <td>...</td>\n",
       "      <td>...</td>\n",
       "      <td>...</td>\n",
       "      <td>...</td>\n",
       "      <td>...</td>\n",
       "      <td>...</td>\n",
       "      <td>...</td>\n",
       "    </tr>\n",
       "    <tr>\n",
       "      <th>405124</th>\n",
       "      <td>103212776</td>\n",
       "      <td>True</td>\n",
       "      <td>0.0</td>\n",
       "      <td>0.0</td>\n",
       "      <td>0.0</td>\n",
       "      <td>2</td>\n",
       "      <td>2019-06-09</td>\n",
       "      <td>00:55:04</td>\n",
       "      <td>96708509</td>\n",
       "      <td>0.0</td>\n",
       "    </tr>\n",
       "    <tr>\n",
       "      <th>405125</th>\n",
       "      <td>103212776</td>\n",
       "      <td>True</td>\n",
       "      <td>0.0</td>\n",
       "      <td>0.0</td>\n",
       "      <td>0.0</td>\n",
       "      <td>3</td>\n",
       "      <td>2019-06-09</td>\n",
       "      <td>01:04:00</td>\n",
       "      <td>96708510</td>\n",
       "      <td>0.0</td>\n",
       "    </tr>\n",
       "    <tr>\n",
       "      <th>405126</th>\n",
       "      <td>103213122</td>\n",
       "      <td>True</td>\n",
       "      <td>0.0</td>\n",
       "      <td>0.0</td>\n",
       "      <td>0.0</td>\n",
       "      <td>1</td>\n",
       "      <td>2019-06-08</td>\n",
       "      <td>14:49:01</td>\n",
       "      <td>96712350</td>\n",
       "      <td>0.0</td>\n",
       "    </tr>\n",
       "    <tr>\n",
       "      <th>405127</th>\n",
       "      <td>103213122</td>\n",
       "      <td>True</td>\n",
       "      <td>0.0</td>\n",
       "      <td>0.0</td>\n",
       "      <td>0.0</td>\n",
       "      <td>2</td>\n",
       "      <td>2019-06-08</td>\n",
       "      <td>14:51:01</td>\n",
       "      <td>96712351</td>\n",
       "      <td>0.0</td>\n",
       "    </tr>\n",
       "    <tr>\n",
       "      <th>405128</th>\n",
       "      <td>103213122</td>\n",
       "      <td>True</td>\n",
       "      <td>0.0</td>\n",
       "      <td>0.0</td>\n",
       "      <td>0.0</td>\n",
       "      <td>3</td>\n",
       "      <td>2019-06-08</td>\n",
       "      <td>14:53:05</td>\n",
       "      <td>96712352</td>\n",
       "      <td>0.0</td>\n",
       "    </tr>\n",
       "  </tbody>\n",
       "</table>\n",
       "<p>362121 rows × 10 columns</p>\n",
       "</div>"
      ],
      "text/plain": [
       "             u_id  cleared_stage  retry_count  score  stars  stage_id  \\\n",
       "0       100000101           True          0.0    0.0    0.0         1   \n",
       "1       100000101           True          0.0    0.0    0.0         2   \n",
       "2       100000101           True          0.0    0.0    0.0         3   \n",
       "3       100000101           True          0.0    0.0    0.0         4   \n",
       "4       100000101           True          0.0    0.0    0.0         5   \n",
       "...           ...            ...          ...    ...    ...       ...   \n",
       "405124  103212776           True          0.0    0.0    0.0         2   \n",
       "405125  103212776           True          0.0    0.0    0.0         3   \n",
       "405126  103213122           True          0.0    0.0    0.0         1   \n",
       "405127  103213122           True          0.0    0.0    0.0         2   \n",
       "405128  103213122           True          0.0    0.0    0.0         3   \n",
       "\n",
       "              date      time  obs_index  log_score  \n",
       "0       2015-03-12  04:17:04      10814        0.0  \n",
       "1       2015-03-12  13:53:47      10815        0.0  \n",
       "2       2015-03-12  13:58:09      10816        0.0  \n",
       "3       2015-03-12  14:39:40      10817        0.0  \n",
       "4       2015-03-12  14:44:02      10818        0.0  \n",
       "...            ...       ...        ...        ...  \n",
       "405124  2019-06-09  00:55:04   96708509        0.0  \n",
       "405125  2019-06-09  01:04:00   96708510        0.0  \n",
       "405126  2019-06-08  14:49:01   96712350        0.0  \n",
       "405127  2019-06-08  14:51:01   96712351        0.0  \n",
       "405128  2019-06-08  14:53:05   96712352        0.0  \n",
       "\n",
       "[362121 rows x 10 columns]"
      ]
     },
     "execution_count": 9,
     "metadata": {},
     "output_type": "execute_result"
    }
   ],
   "source": [
    "df"
   ]
  },
  {
   "cell_type": "code",
   "execution_count": 10,
   "id": "51257e22",
   "metadata": {},
   "outputs": [
    {
     "data": {
      "text/plain": [
       "<seaborn.axisgrid.FacetGrid at 0x7ff3284006a0>"
      ]
     },
     "execution_count": 10,
     "metadata": {},
     "output_type": "execute_result"
    },
    {
     "data": {
      "image/png": "[encoded data removed]",
      "text/plain": [
       "<Figure size 360x360 with 1 Axes>"
      ]
     },
     "metadata": {
      "needs_background": "light"
     },
     "output_type": "display_data"
    }
   ],
   "source": [
    "sns.displot(df, x=\"log_score\", kde=True)"
   ]
  },
  {
   "cell_type": "markdown",
   "id": "ec8e411c",
   "metadata": {},
   "source": [
    "Looking at the distribution plot above, we notice that we have a very high count of zero (log) scores, indicating that a lot of players attempted to play the game but failed to achieve a non-zero score. Scores from 5 to 20 follow a bell-shaped curve, with the peak being somewhere between 10 and 15."
   ]
  },
  {
   "cell_type": "markdown",
   "id": "0065040c",
   "metadata": {},
   "source": [
    "### Calculating Game Popularity & Average Player Performance "
   ]
  },
  {
   "cell_type": "markdown",
   "id": "3915991a",
   "metadata": {},
   "source": [
    "Looking at the dataset, we could infer the level of popularity of game, and how the popularity varies across time. There are several way we could quantify this. One metric could be to calculate the number of unique players who played the game across a certain unit of time (e.g. day, year). We could also measure player performance by calculating the mean scores of all those (unique) players who played on a given day. For example, if three players played the game on a given day, with scores of 1,5, and 9, the mean score of would be 5 for that day."
   ]
  },
  {
   "cell_type": "code",
   "execution_count": 11,
   "id": "3d0e18ba",
   "metadata": {},
   "outputs": [
    {
     "data": {
      "text/html": [
       "<div>\n",
       "<style scoped>\n",
       "    .dataframe tbody tr th:only-of-type {\n",
       "        vertical-align: middle;\n",
       "    }\n",
       "\n",
       "    .dataframe tbody tr th {\n",
       "        vertical-align: top;\n",
       "    }\n",
       "\n",
       "    .dataframe thead th {\n",
       "        text-align: right;\n",
       "    }\n",
       "</style>\n",
       "<table border=\"1\" class=\"dataframe\">\n",
       "  <thead>\n",
       "    <tr style=\"text-align: right;\">\n",
       "      <th></th>\n",
       "      <th>u_id</th>\n",
       "      <th>cleared_stage</th>\n",
       "      <th>retry_count</th>\n",
       "      <th>score</th>\n",
       "      <th>stars</th>\n",
       "      <th>stage_id</th>\n",
       "      <th>date</th>\n",
       "      <th>time</th>\n",
       "      <th>obs_index</th>\n",
       "      <th>log_score</th>\n",
       "    </tr>\n",
       "  </thead>\n",
       "  <tbody>\n",
       "    <tr>\n",
       "      <th>0</th>\n",
       "      <td>100000101</td>\n",
       "      <td>True</td>\n",
       "      <td>0.0</td>\n",
       "      <td>0.0</td>\n",
       "      <td>0.0</td>\n",
       "      <td>1</td>\n",
       "      <td>2015-03-12</td>\n",
       "      <td>04:17:04</td>\n",
       "      <td>10814</td>\n",
       "      <td>0.000000</td>\n",
       "    </tr>\n",
       "    <tr>\n",
       "      <th>30</th>\n",
       "      <td>100001281</td>\n",
       "      <td>True</td>\n",
       "      <td>0.0</td>\n",
       "      <td>0.0</td>\n",
       "      <td>0.0</td>\n",
       "      <td>3</td>\n",
       "      <td>2015-03-12</td>\n",
       "      <td>08:02:04</td>\n",
       "      <td>126187</td>\n",
       "      <td>0.000000</td>\n",
       "    </tr>\n",
       "    <tr>\n",
       "      <th>129</th>\n",
       "      <td>100001288</td>\n",
       "      <td>True</td>\n",
       "      <td>0.0</td>\n",
       "      <td>0.0</td>\n",
       "      <td>0.0</td>\n",
       "      <td>1</td>\n",
       "      <td>2015-03-14</td>\n",
       "      <td>16:32:28</td>\n",
       "      <td>126450</td>\n",
       "      <td>0.000000</td>\n",
       "    </tr>\n",
       "    <tr>\n",
       "      <th>151</th>\n",
       "      <td>100001327</td>\n",
       "      <td>True</td>\n",
       "      <td>0.0</td>\n",
       "      <td>0.0</td>\n",
       "      <td>0.0</td>\n",
       "      <td>4</td>\n",
       "      <td>2015-03-13</td>\n",
       "      <td>08:45:22</td>\n",
       "      <td>129241</td>\n",
       "      <td>0.000000</td>\n",
       "    </tr>\n",
       "    <tr>\n",
       "      <th>173</th>\n",
       "      <td>100001686</td>\n",
       "      <td>True</td>\n",
       "      <td>0.0</td>\n",
       "      <td>0.0</td>\n",
       "      <td>0.0</td>\n",
       "      <td>1</td>\n",
       "      <td>2015-03-12</td>\n",
       "      <td>05:18:14</td>\n",
       "      <td>149708</td>\n",
       "      <td>0.000000</td>\n",
       "    </tr>\n",
       "    <tr>\n",
       "      <th>...</th>\n",
       "      <td>...</td>\n",
       "      <td>...</td>\n",
       "      <td>...</td>\n",
       "      <td>...</td>\n",
       "      <td>...</td>\n",
       "      <td>...</td>\n",
       "      <td>...</td>\n",
       "      <td>...</td>\n",
       "      <td>...</td>\n",
       "      <td>...</td>\n",
       "    </tr>\n",
       "    <tr>\n",
       "      <th>405116</th>\n",
       "      <td>103212247</td>\n",
       "      <td>True</td>\n",
       "      <td>0.0</td>\n",
       "      <td>154237.0</td>\n",
       "      <td>2.0</td>\n",
       "      <td>12</td>\n",
       "      <td>2019-06-08</td>\n",
       "      <td>16:28:02</td>\n",
       "      <td>96701964</td>\n",
       "      <td>11.946252</td>\n",
       "    </tr>\n",
       "    <tr>\n",
       "      <th>405119</th>\n",
       "      <td>103212318</td>\n",
       "      <td>True</td>\n",
       "      <td>0.0</td>\n",
       "      <td>0.0</td>\n",
       "      <td>0.0</td>\n",
       "      <td>2</td>\n",
       "      <td>2019-06-04</td>\n",
       "      <td>03:17:01</td>\n",
       "      <td>96703212</td>\n",
       "      <td>0.000000</td>\n",
       "    </tr>\n",
       "    <tr>\n",
       "      <th>405121</th>\n",
       "      <td>103212744</td>\n",
       "      <td>True</td>\n",
       "      <td>0.0</td>\n",
       "      <td>0.0</td>\n",
       "      <td>0.0</td>\n",
       "      <td>1</td>\n",
       "      <td>2019-06-06</td>\n",
       "      <td>13:47:03</td>\n",
       "      <td>96707675</td>\n",
       "      <td>0.000000</td>\n",
       "    </tr>\n",
       "    <tr>\n",
       "      <th>405123</th>\n",
       "      <td>103212776</td>\n",
       "      <td>True</td>\n",
       "      <td>0.0</td>\n",
       "      <td>0.0</td>\n",
       "      <td>0.0</td>\n",
       "      <td>1</td>\n",
       "      <td>2019-06-09</td>\n",
       "      <td>00:48:05</td>\n",
       "      <td>96708508</td>\n",
       "      <td>0.000000</td>\n",
       "    </tr>\n",
       "    <tr>\n",
       "      <th>405126</th>\n",
       "      <td>103213122</td>\n",
       "      <td>True</td>\n",
       "      <td>0.0</td>\n",
       "      <td>0.0</td>\n",
       "      <td>0.0</td>\n",
       "      <td>1</td>\n",
       "      <td>2019-06-08</td>\n",
       "      <td>14:49:01</td>\n",
       "      <td>96712350</td>\n",
       "      <td>0.000000</td>\n",
       "    </tr>\n",
       "  </tbody>\n",
       "</table>\n",
       "<p>9914 rows × 10 columns</p>\n",
       "</div>"
      ],
      "text/plain": [
       "             u_id  cleared_stage  retry_count     score  stars  stage_id  \\\n",
       "0       100000101           True          0.0       0.0    0.0         1   \n",
       "30      100001281           True          0.0       0.0    0.0         3   \n",
       "129     100001288           True          0.0       0.0    0.0         1   \n",
       "151     100001327           True          0.0       0.0    0.0         4   \n",
       "173     100001686           True          0.0       0.0    0.0         1   \n",
       "...           ...            ...          ...       ...    ...       ...   \n",
       "405116  103212247           True          0.0  154237.0    2.0        12   \n",
       "405119  103212318           True          0.0       0.0    0.0         2   \n",
       "405121  103212744           True          0.0       0.0    0.0         1   \n",
       "405123  103212776           True          0.0       0.0    0.0         1   \n",
       "405126  103213122           True          0.0       0.0    0.0         1   \n",
       "\n",
       "              date      time  obs_index  log_score  \n",
       "0       2015-03-12  04:17:04      10814   0.000000  \n",
       "30      2015-03-12  08:02:04     126187   0.000000  \n",
       "129     2015-03-14  16:32:28     126450   0.000000  \n",
       "151     2015-03-13  08:45:22     129241   0.000000  \n",
       "173     2015-03-12  05:18:14     149708   0.000000  \n",
       "...            ...       ...        ...        ...  \n",
       "405116  2019-06-08  16:28:02   96701964  11.946252  \n",
       "405119  2019-06-04  03:17:01   96703212   0.000000  \n",
       "405121  2019-06-06  13:47:03   96707675   0.000000  \n",
       "405123  2019-06-09  00:48:05   96708508   0.000000  \n",
       "405126  2019-06-08  14:49:01   96712350   0.000000  \n",
       "\n",
       "[9914 rows x 10 columns]"
      ]
     },
     "execution_count": 11,
     "metadata": {},
     "output_type": "execute_result"
    }
   ],
   "source": [
    "\"\"\"\n",
    "For the purpose of this analysis, we will drop all the rows with duplicate u_id\n",
    "while keeping their highest score, so we only have unique players.\n",
    "\n",
    "\"\"\"\n",
    "new_df_1 = df.sort_values('score', ascending=False).drop_duplicates('u_id').sort_index()\n",
    "new_df_1"
   ]
  },
  {
   "cell_type": "code",
   "execution_count": 12,
   "id": "4bc88f9f",
   "metadata": {},
   "outputs": [
    {
     "data": {
      "text/html": [
       "<div>\n",
       "<style scoped>\n",
       "    .dataframe tbody tr th:only-of-type {\n",
       "        vertical-align: middle;\n",
       "    }\n",
       "\n",
       "    .dataframe tbody tr th {\n",
       "        vertical-align: top;\n",
       "    }\n",
       "\n",
       "    .dataframe thead th {\n",
       "        text-align: right;\n",
       "    }\n",
       "</style>\n",
       "<table border=\"1\" class=\"dataframe\">\n",
       "  <thead>\n",
       "    <tr style=\"text-align: right;\">\n",
       "      <th></th>\n",
       "      <th>date</th>\n",
       "      <th>unique_players</th>\n",
       "      <th>mean_score</th>\n",
       "    </tr>\n",
       "  </thead>\n",
       "  <tbody>\n",
       "    <tr>\n",
       "      <th>0</th>\n",
       "      <td>2015-03-12</td>\n",
       "      <td>171</td>\n",
       "      <td>0.0</td>\n",
       "    </tr>\n",
       "    <tr>\n",
       "      <th>1</th>\n",
       "      <td>2015-03-13</td>\n",
       "      <td>144</td>\n",
       "      <td>0.0</td>\n",
       "    </tr>\n",
       "    <tr>\n",
       "      <th>2</th>\n",
       "      <td>2015-03-14</td>\n",
       "      <td>195</td>\n",
       "      <td>0.0</td>\n",
       "    </tr>\n",
       "    <tr>\n",
       "      <th>3</th>\n",
       "      <td>2015-03-15</td>\n",
       "      <td>182</td>\n",
       "      <td>0.0</td>\n",
       "    </tr>\n",
       "    <tr>\n",
       "      <th>4</th>\n",
       "      <td>2015-03-16</td>\n",
       "      <td>140</td>\n",
       "      <td>0.0</td>\n",
       "    </tr>\n",
       "    <tr>\n",
       "      <th>...</th>\n",
       "      <td>...</td>\n",
       "      <td>...</td>\n",
       "      <td>...</td>\n",
       "    </tr>\n",
       "    <tr>\n",
       "      <th>1334</th>\n",
       "      <td>2019-06-07</td>\n",
       "      <td>1</td>\n",
       "      <td>67542869.0</td>\n",
       "    </tr>\n",
       "    <tr>\n",
       "      <th>1335</th>\n",
       "      <td>2019-06-08</td>\n",
       "      <td>2</td>\n",
       "      <td>77118.5</td>\n",
       "    </tr>\n",
       "    <tr>\n",
       "      <th>1336</th>\n",
       "      <td>2019-06-09</td>\n",
       "      <td>1</td>\n",
       "      <td>0.0</td>\n",
       "    </tr>\n",
       "    <tr>\n",
       "      <th>1337</th>\n",
       "      <td>2019-06-10</td>\n",
       "      <td>1</td>\n",
       "      <td>34718.0</td>\n",
       "    </tr>\n",
       "    <tr>\n",
       "      <th>1338</th>\n",
       "      <td>2019-06-12</td>\n",
       "      <td>1</td>\n",
       "      <td>617255.0</td>\n",
       "    </tr>\n",
       "  </tbody>\n",
       "</table>\n",
       "<p>1339 rows × 3 columns</p>\n",
       "</div>"
      ],
      "text/plain": [
       "            date  unique_players  mean_score\n",
       "0     2015-03-12             171         0.0\n",
       "1     2015-03-13             144         0.0\n",
       "2     2015-03-14             195         0.0\n",
       "3     2015-03-15             182         0.0\n",
       "4     2015-03-16             140         0.0\n",
       "...          ...             ...         ...\n",
       "1334  2019-06-07               1  67542869.0\n",
       "1335  2019-06-08               2     77118.5\n",
       "1336  2019-06-09               1         0.0\n",
       "1337  2019-06-10               1     34718.0\n",
       "1338  2019-06-12               1    617255.0\n",
       "\n",
       "[1339 rows x 3 columns]"
      ]
     },
     "execution_count": 12,
     "metadata": {},
     "output_type": "execute_result"
    }
   ],
   "source": [
    "new_df_2 = new_df_1.groupby('date').agg(unique_players=('u_id', 'nunique'), mean_score=('score', 'mean')).reset_index() #Checks how many players played each day and the average score of those players on that date\n",
    "new_df_2 "
   ]
  },
  {
   "cell_type": "code",
   "execution_count": 13,
   "id": "62006915",
   "metadata": {},
   "outputs": [
    {
     "data": {
      "text/plain": [
       "<AxesSubplot:xlabel='date'>"
      ]
     },
     "execution_count": 13,
     "metadata": {},
     "output_type": "execute_result"
    },
    {
     "data": {
      "image/png": "[encoded data removed]",
      "text/plain": [
       "<Figure size 432x288 with 1 Axes>"
      ]
     },
     "metadata": {
      "needs_background": "light"
     },
     "output_type": "display_data"
    }
   ],
   "source": [
    "new_df_2.iloc[::300,:].plot.bar(x='date', y='unique_players', rot=0)\n"
   ]
  },
  {
   "cell_type": "markdown",
   "id": "7a8a27ee",
   "metadata": {},
   "source": [
    "The bar plot represents the number of unique players on a given day every 10 months. As we can see, in March 2015, we have the highest number of unique players who played the game, with a count of >160. However, this number starts to go down as we progress further in time. This is not surprising since game popularity for most games usually starts to wane over time."
   ]
  },
  {
   "cell_type": "code",
   "execution_count": 14,
   "id": "ffce0878",
   "metadata": {},
   "outputs": [
    {
     "data": {
      "text/plain": [
       "<AxesSubplot:xlabel='date'>"
      ]
     },
     "execution_count": 14,
     "metadata": {},
     "output_type": "execute_result"
    },
    {
     "data": {
      "image/png": "[encoded data removed]",
      "text/plain": [
       "<Figure size 432x288 with 1 Axes>"
      ]
     },
     "metadata": {
      "needs_background": "light"
     },
     "output_type": "display_data"
    }
   ],
   "source": [
    "new_df_2.iloc[::300,:].plot.bar(x='date', y='mean_score', rot=0)"
   ]
  },
  {
   "cell_type": "markdown",
   "id": "cb697bd3",
   "metadata": {},
   "source": [
    "Looking at the mean score over time, we can infer some insights. Interestingly, the mean score, and thus the average player performance, increases consistently as we move across time (with the exception of December 2018 where the mean score was zero), while the game popularity (generally) decreases over time. This implies that in the beginning, we have a large influx of players who initially try out the game (casual gamers), but as time progresses and the game matures, only the highest performing players end up still playing the game (competitive gamers). Based on my own personal experience, I can support this hypothesis. For example, when the game of Fortnite started, the game popularity was huge, but the average quality of the players who played the game was pretty low, since most of the players who played the game were casual gamers. \n",
    "\n",
    "\n",
    "\n",
    "However, if one plays Fortnite now, one can noticeably see the difference in the average quality of players, as more competitive gamers are playing the game compared to casual gamers. Nevertheless, **further research and data will be needed to see if the difference in player quality across time is indeed statistically significant!** Moreover, the trends we are seeing are largely dependent on the time scale we are using. So we can verify if this general trend holds true using year as the unit of time.        "
   ]
  },
  {
   "cell_type": "code",
   "execution_count": 15,
   "id": "d69ab943",
   "metadata": {},
   "outputs": [],
   "source": [
    "new_df_1['year'] = pd.DatetimeIndex(new_df_1['date']).year\n",
    "new_df_3 = new_df_1.groupby('year').agg(unique_players=('u_id', 'nunique'), mean_score=('score', 'mean')).reset_index() #Checks how many unique players played each year and the average score of those players on that date"
   ]
  },
  {
   "cell_type": "code",
   "execution_count": 16,
   "id": "621fa814",
   "metadata": {},
   "outputs": [
    {
     "data": {
      "text/html": [
       "<div>\n",
       "<style scoped>\n",
       "    .dataframe tbody tr th:only-of-type {\n",
       "        vertical-align: middle;\n",
       "    }\n",
       "\n",
       "    .dataframe tbody tr th {\n",
       "        vertical-align: top;\n",
       "    }\n",
       "\n",
       "    .dataframe thead th {\n",
       "        text-align: right;\n",
       "    }\n",
       "</style>\n",
       "<table border=\"1\" class=\"dataframe\">\n",
       "  <thead>\n",
       "    <tr style=\"text-align: right;\">\n",
       "      <th></th>\n",
       "      <th>year</th>\n",
       "      <th>unique_players</th>\n",
       "      <th>mean_score</th>\n",
       "    </tr>\n",
       "  </thead>\n",
       "  <tbody>\n",
       "    <tr>\n",
       "      <th>0</th>\n",
       "      <td>2015</td>\n",
       "      <td>4937</td>\n",
       "      <td>1.917925e+05</td>\n",
       "    </tr>\n",
       "    <tr>\n",
       "      <th>1</th>\n",
       "      <td>2016</td>\n",
       "      <td>2436</td>\n",
       "      <td>1.512199e+06</td>\n",
       "    </tr>\n",
       "    <tr>\n",
       "      <th>2</th>\n",
       "      <td>2017</td>\n",
       "      <td>1603</td>\n",
       "      <td>5.896595e+06</td>\n",
       "    </tr>\n",
       "    <tr>\n",
       "      <th>3</th>\n",
       "      <td>2018</td>\n",
       "      <td>664</td>\n",
       "      <td>8.967820e+06</td>\n",
       "    </tr>\n",
       "    <tr>\n",
       "      <th>4</th>\n",
       "      <td>2019</td>\n",
       "      <td>274</td>\n",
       "      <td>2.069825e+07</td>\n",
       "    </tr>\n",
       "  </tbody>\n",
       "</table>\n",
       "</div>"
      ],
      "text/plain": [
       "   year  unique_players    mean_score\n",
       "0  2015            4937  1.917925e+05\n",
       "1  2016            2436  1.512199e+06\n",
       "2  2017            1603  5.896595e+06\n",
       "3  2018             664  8.967820e+06\n",
       "4  2019             274  2.069825e+07"
      ]
     },
     "execution_count": 16,
     "metadata": {},
     "output_type": "execute_result"
    }
   ],
   "source": [
    "new_df_3"
   ]
  },
  {
   "cell_type": "code",
   "execution_count": 17,
   "id": "62ff7531",
   "metadata": {},
   "outputs": [
    {
     "data": {
      "text/plain": [
       "<AxesSubplot:xlabel='year'>"
      ]
     },
     "execution_count": 17,
     "metadata": {},
     "output_type": "execute_result"
    },
    {
     "data": {
      "image/png": "[encoded data removed]",
      "text/plain": [
       "<Figure size 432x288 with 1 Axes>"
      ]
     },
     "metadata": {
      "needs_background": "light"
     },
     "output_type": "display_data"
    }
   ],
   "source": [
    "new_df_3.plot.bar(x='year', y='unique_players', rot=0)"
   ]
  },
  {
   "cell_type": "code",
   "execution_count": 18,
   "id": "280f73b2",
   "metadata": {},
   "outputs": [
    {
     "data": {
      "text/plain": [
       "<AxesSubplot:xlabel='year'>"
      ]
     },
     "execution_count": 18,
     "metadata": {},
     "output_type": "execute_result"
    },
    {
     "data": {
      "image/png": "[encoded data removed]",
      "text/plain": [
       "<Figure size 432x288 with 1 Axes>"
      ]
     },
     "metadata": {
      "needs_background": "light"
     },
     "output_type": "display_data"
    }
   ],
   "source": [
    "new_df_3.plot.bar(x='year', y='mean_score', rot=0)"
   ]
  },
  {
   "cell_type": "markdown",
   "id": "bcbde288",
   "metadata": {},
   "source": [
    "Indeed, the inverse relationship between the number of unique players and the mean score holds true and is more consistent across the yearly level, with 2015 having the highest number of unique players who played the game and also the lowest mean score, and 2019 having the lowest number of players but the highest mean score.\n",
    "\n",
    "\n",
    "\n",
    "*On a side note, this is basically the Law of Large numbers in action! When we visualized the trends on a daily level every 10 months, we noticed a general pattern - that game popularity generally increases over time and is inversely proportional to average player performance, which generally decreases over time. However, there were some minor fluctuations and inconsistencies. Namely 2016-11-19 had more players playing the game than 2016-01-14, and 2018-12-12 had a mean score of zero, much lower compared to 2017-10-25 which had a mean score of >3. This is an example of how when we have a small population (like the number of players in a given day), we generally see more outliers and inconsistent trends, whereas when we have a large population (number of players in a given year), we see trends that are more consistent and aligned with our expectations.*"
   ]
  },
  {
   "cell_type": "markdown",
   "id": "42eeb329",
   "metadata": {},
   "source": [
    "### User-Level Analysis"
   ]
  },
  {
   "cell_type": "markdown",
   "id": "d93c0357",
   "metadata": {},
   "source": [
    "#### Calculating Play Frequency Within a Day"
   ]
  },
  {
   "cell_type": "markdown",
   "id": "71d15733",
   "metadata": {},
   "source": [
    "Given the dataset, we can also identify the players who have played the game the most number of times within a given day. Specifically, we will first check how many times each player played the game on a given day and the select the player with the highest count."
   ]
  },
  {
   "cell_type": "code",
   "execution_count": 19,
   "id": "6b53dd41",
   "metadata": {},
   "outputs": [],
   "source": [
    "new_df_4 = df.groupby(['date', 'u_id']).agg(count=('cleared_stage', 'count')) #checks how many times each player played the game on a given day "
   ]
  },
  {
   "cell_type": "code",
   "execution_count": 20,
   "id": "cc24f2de",
   "metadata": {},
   "outputs": [
    {
     "data": {
      "text/html": [
       "<div>\n",
       "<style scoped>\n",
       "    .dataframe tbody tr th:only-of-type {\n",
       "        vertical-align: middle;\n",
       "    }\n",
       "\n",
       "    .dataframe tbody tr th {\n",
       "        vertical-align: top;\n",
       "    }\n",
       "\n",
       "    .dataframe thead th {\n",
       "        text-align: right;\n",
       "    }\n",
       "</style>\n",
       "<table border=\"1\" class=\"dataframe\">\n",
       "  <thead>\n",
       "    <tr style=\"text-align: right;\">\n",
       "      <th></th>\n",
       "      <th></th>\n",
       "      <th>count</th>\n",
       "    </tr>\n",
       "    <tr>\n",
       "      <th>date</th>\n",
       "      <th>u_id</th>\n",
       "      <th></th>\n",
       "    </tr>\n",
       "  </thead>\n",
       "  <tbody>\n",
       "    <tr>\n",
       "      <th rowspan=\"5\" valign=\"top\">2015-03-12</th>\n",
       "      <th>100000101</th>\n",
       "      <td>8</td>\n",
       "    </tr>\n",
       "    <tr>\n",
       "      <th>100001281</th>\n",
       "      <td>3</td>\n",
       "    </tr>\n",
       "    <tr>\n",
       "      <th>100001288</th>\n",
       "      <td>25</td>\n",
       "    </tr>\n",
       "    <tr>\n",
       "      <th>100001327</th>\n",
       "      <td>3</td>\n",
       "    </tr>\n",
       "    <tr>\n",
       "      <th>100001686</th>\n",
       "      <td>3</td>\n",
       "    </tr>\n",
       "    <tr>\n",
       "      <th>...</th>\n",
       "      <th>...</th>\n",
       "      <td>...</td>\n",
       "    </tr>\n",
       "    <tr>\n",
       "      <th>2019-06-10</th>\n",
       "      <th>103171305</th>\n",
       "      <td>1</td>\n",
       "    </tr>\n",
       "    <tr>\n",
       "      <th rowspan=\"2\" valign=\"top\">2019-06-11</th>\n",
       "      <th>102197628</th>\n",
       "      <td>2</td>\n",
       "    </tr>\n",
       "    <tr>\n",
       "      <th>103208765</th>\n",
       "      <td>3</td>\n",
       "    </tr>\n",
       "    <tr>\n",
       "      <th rowspan=\"2\" valign=\"top\">2019-06-12</th>\n",
       "      <th>103148651</th>\n",
       "      <td>3</td>\n",
       "    </tr>\n",
       "    <tr>\n",
       "      <th>103211454</th>\n",
       "      <td>9</td>\n",
       "    </tr>\n",
       "  </tbody>\n",
       "</table>\n",
       "<p>52826 rows × 1 columns</p>\n",
       "</div>"
      ],
      "text/plain": [
       "                      count\n",
       "date       u_id            \n",
       "2015-03-12 100000101      8\n",
       "           100001281      3\n",
       "           100001288     25\n",
       "           100001327      3\n",
       "           100001686      3\n",
       "...                     ...\n",
       "2019-06-10 103171305      1\n",
       "2019-06-11 102197628      2\n",
       "           103208765      3\n",
       "2019-06-12 103148651      3\n",
       "           103211454      9\n",
       "\n",
       "[52826 rows x 1 columns]"
      ]
     },
     "execution_count": 20,
     "metadata": {},
     "output_type": "execute_result"
    }
   ],
   "source": [
    "new_df_4"
   ]
  },
  {
   "cell_type": "markdown",
   "id": "19ab2f85",
   "metadata": {},
   "source": [
    "The dataframe above shows the number of times each user played the game within a day. For example, user **100000101** played the game 8 times on 2015-03-12, whereas user **100001288** played the game 25 times on the same day."
   ]
  },
  {
   "cell_type": "code",
   "execution_count": 21,
   "id": "97149663",
   "metadata": {},
   "outputs": [
    {
     "data": {
      "text/plain": [
       "count    137\n",
       "dtype: int64"
      ]
     },
     "execution_count": 21,
     "metadata": {},
     "output_type": "execute_result"
    }
   ],
   "source": [
    "new_df_4[['count']].max()"
   ]
  },
  {
   "cell_type": "code",
   "execution_count": 22,
   "id": "4749498e",
   "metadata": {},
   "outputs": [
    {
     "data": {
      "text/plain": [
       "count    (2017-12-11, 102925590)\n",
       "dtype: object"
      ]
     },
     "execution_count": 22,
     "metadata": {},
     "output_type": "execute_result"
    }
   ],
   "source": [
    "new_df_4[['count']].idxmax() #user 102925590 played the game 137 times on 2017-12-11!"
   ]
  },
  {
   "cell_type": "markdown",
   "id": "244339d2",
   "metadata": {},
   "source": [
    "As we can see, user **102925590** was the player who played the game the highest number of times on a given day. Specifically, this user played the game 137 times on 2017-12-11!"
   ]
  },
  {
   "cell_type": "markdown",
   "id": "8258b4d4",
   "metadata": {},
   "source": [
    "We can not only identify the players who played the game the most number of time on a given day, but we can also calculate the average number of times players play the game, which turns out to be approximately 7 times a day! "
   ]
  },
  {
   "cell_type": "code",
   "execution_count": 23,
   "id": "e390d678",
   "metadata": {},
   "outputs": [
    {
     "data": {
      "text/plain": [
       "6.8549767160110555"
      ]
     },
     "execution_count": 23,
     "metadata": {},
     "output_type": "execute_result"
    }
   ],
   "source": [
    "new_df_4['count'].mean() #on average, players play the game almost 7 times a day!"
   ]
  },
  {
   "cell_type": "markdown",
   "id": "d43c160d",
   "metadata": {},
   "source": [
    "We can perform the same calculations but this time aggregate the data by year, so we can find the user who played the game the highest number of times in a year!"
   ]
  },
  {
   "cell_type": "code",
   "execution_count": 24,
   "id": "5cfa49f1",
   "metadata": {},
   "outputs": [],
   "source": [
    "df['year'] = pd.DatetimeIndex(df['date']).year"
   ]
  },
  {
   "cell_type": "code",
   "execution_count": 25,
   "id": "15e14771",
   "metadata": {},
   "outputs": [],
   "source": [
    "new_df_5 = df.groupby(['year', 'u_id']).agg(count=('cleared_stage', 'count'))"
   ]
  },
  {
   "cell_type": "code",
   "execution_count": 26,
   "id": "c994abf5",
   "metadata": {},
   "outputs": [
    {
     "data": {
      "text/plain": [
       "count    1335\n",
       "dtype: int64"
      ]
     },
     "execution_count": 26,
     "metadata": {},
     "output_type": "execute_result"
    }
   ],
   "source": [
    "new_df_5[['count']].max()"
   ]
  },
  {
   "cell_type": "code",
   "execution_count": 27,
   "id": "2d2afd43",
   "metadata": {},
   "outputs": [
    {
     "data": {
      "text/plain": [
       "count    (2017, 102650635)\n",
       "dtype: object"
      ]
     },
     "execution_count": 27,
     "metadata": {},
     "output_type": "execute_result"
    }
   ],
   "source": [
    "new_df_5[['count']].idxmax() #however user 102650635 was the players who played the game the highest number of times in a given year at 1335 times on 2017"
   ]
  },
  {
   "cell_type": "markdown",
   "id": "d1302da9",
   "metadata": {},
   "source": [
    "As we can see, user **102650635** was the player with the highest number of plays in a given year. Specifically, this user played the game 1335 throughout 2017!"
   ]
  },
  {
   "cell_type": "markdown",
   "id": "69b2d338",
   "metadata": {},
   "source": [
    "#### Calculating Play Frequency Across Different Days"
   ]
  },
  {
   "cell_type": "markdown",
   "id": "3d50a2fb",
   "metadata": {},
   "source": [
    "This time, instead of calculating the number of times users played the game within a day, we can calculate the number of days each user played the game at least once."
   ]
  },
  {
   "cell_type": "code",
   "execution_count": 28,
   "id": "ebfb1dfa",
   "metadata": {},
   "outputs": [],
   "source": [
    "new_df_6 = df.groupby(['u_id', 'date']).count().groupby(level=0).size().reset_index(name='Number of different days the game was played')"
   ]
  },
  {
   "cell_type": "code",
   "execution_count": 29,
   "id": "49112bba",
   "metadata": {},
   "outputs": [
    {
     "data": {
      "text/html": [
       "<div>\n",
       "<style scoped>\n",
       "    .dataframe tbody tr th:only-of-type {\n",
       "        vertical-align: middle;\n",
       "    }\n",
       "\n",
       "    .dataframe tbody tr th {\n",
       "        vertical-align: top;\n",
       "    }\n",
       "\n",
       "    .dataframe thead th {\n",
       "        text-align: right;\n",
       "    }\n",
       "</style>\n",
       "<table border=\"1\" class=\"dataframe\">\n",
       "  <thead>\n",
       "    <tr style=\"text-align: right;\">\n",
       "      <th></th>\n",
       "      <th>u_id</th>\n",
       "      <th>Number of different days the game was played</th>\n",
       "    </tr>\n",
       "  </thead>\n",
       "  <tbody>\n",
       "    <tr>\n",
       "      <th>0</th>\n",
       "      <td>100000101</td>\n",
       "      <td>3</td>\n",
       "    </tr>\n",
       "    <tr>\n",
       "      <th>1</th>\n",
       "      <td>100001281</td>\n",
       "      <td>1</td>\n",
       "    </tr>\n",
       "    <tr>\n",
       "      <th>2</th>\n",
       "      <td>100001288</td>\n",
       "      <td>5</td>\n",
       "    </tr>\n",
       "    <tr>\n",
       "      <th>3</th>\n",
       "      <td>100001327</td>\n",
       "      <td>4</td>\n",
       "    </tr>\n",
       "    <tr>\n",
       "      <th>4</th>\n",
       "      <td>100001686</td>\n",
       "      <td>1</td>\n",
       "    </tr>\n",
       "    <tr>\n",
       "      <th>...</th>\n",
       "      <td>...</td>\n",
       "      <td>...</td>\n",
       "    </tr>\n",
       "    <tr>\n",
       "      <th>9909</th>\n",
       "      <td>103212247</td>\n",
       "      <td>3</td>\n",
       "    </tr>\n",
       "    <tr>\n",
       "      <th>9910</th>\n",
       "      <td>103212318</td>\n",
       "      <td>1</td>\n",
       "    </tr>\n",
       "    <tr>\n",
       "      <th>9911</th>\n",
       "      <td>103212744</td>\n",
       "      <td>1</td>\n",
       "    </tr>\n",
       "    <tr>\n",
       "      <th>9912</th>\n",
       "      <td>103212776</td>\n",
       "      <td>1</td>\n",
       "    </tr>\n",
       "    <tr>\n",
       "      <th>9913</th>\n",
       "      <td>103213122</td>\n",
       "      <td>1</td>\n",
       "    </tr>\n",
       "  </tbody>\n",
       "</table>\n",
       "<p>9914 rows × 2 columns</p>\n",
       "</div>"
      ],
      "text/plain": [
       "           u_id  Number of different days the game was played\n",
       "0     100000101                                             3\n",
       "1     100001281                                             1\n",
       "2     100001288                                             5\n",
       "3     100001327                                             4\n",
       "4     100001686                                             1\n",
       "...         ...                                           ...\n",
       "9909  103212247                                             3\n",
       "9910  103212318                                             1\n",
       "9911  103212744                                             1\n",
       "9912  103212776                                             1\n",
       "9913  103213122                                             1\n",
       "\n",
       "[9914 rows x 2 columns]"
      ]
     },
     "execution_count": 29,
     "metadata": {},
     "output_type": "execute_result"
    }
   ],
   "source": [
    "new_df_6"
   ]
  },
  {
   "cell_type": "markdown",
   "id": "323b5090",
   "metadata": {},
   "source": [
    "The dataframe above shows the number of days each user played the game at least one time. For example, user **100000101** played the game at least once across 3 different days, whereas user **100001288** played the game at least once on 5 different days."
   ]
  },
  {
   "cell_type": "code",
   "execution_count": 30,
   "id": "4ca39722",
   "metadata": {},
   "outputs": [
    {
     "data": {
      "text/plain": [
       "Number of different days the game was played    346\n",
       "dtype: int64"
      ]
     },
     "execution_count": 30,
     "metadata": {},
     "output_type": "execute_result"
    }
   ],
   "source": [
    "new_df_6[['Number of different days the game was played']].max()"
   ]
  },
  {
   "cell_type": "code",
   "execution_count": 31,
   "id": "40fb3085",
   "metadata": {},
   "outputs": [
    {
     "data": {
      "text/plain": [
       "Number of different days the game was played    3884\n",
       "dtype: int64"
      ]
     },
     "execution_count": 31,
     "metadata": {},
     "output_type": "execute_result"
    }
   ],
   "source": [
    "new_df_6[['Number of different days the game was played']].idxmax()"
   ]
  },
  {
   "cell_type": "code",
   "execution_count": 32,
   "id": "133faf0d",
   "metadata": {},
   "outputs": [
    {
     "data": {
      "text/plain": [
       "u_id                                            101397994\n",
       "Number of different days the game was played          346\n",
       "Name: 3884, dtype: int64"
      ]
     },
     "execution_count": 32,
     "metadata": {},
     "output_type": "execute_result"
    }
   ],
   "source": [
    "new_df_6.iloc[3884,:]"
   ]
  },
  {
   "cell_type": "markdown",
   "id": "8df6e0d3",
   "metadata": {},
   "source": [
    "As we can see, user **101397994** was the player who played the game atleast once the most number of times across different days. Specifically, this user played the game atleast once on 346 different days - almost everyday throughout a year!"
   ]
  },
  {
   "cell_type": "markdown",
   "id": "f4f680cb",
   "metadata": {},
   "source": [
    "## Examining the Distribution of Scores Conditional on the Stage of the Game & Stars Received"
   ]
  },
  {
   "cell_type": "markdown",
   "id": "ac96fdaa",
   "metadata": {},
   "source": [
    "We will now examine the distribution of scores conditional on the stage of the game and stars received. First, let's plot the kernel density estimation of the log_score conditional on the stars, where we plot separate distributions of the log_score for each star level. "
   ]
  },
  {
   "cell_type": "code",
   "execution_count": 33,
   "id": "d756699f",
   "metadata": {},
   "outputs": [
    {
     "data": {
      "text/plain": [
       "<seaborn.axisgrid.FacetGrid at 0x7ff32d746910>"
      ]
     },
     "execution_count": 33,
     "metadata": {},
     "output_type": "execute_result"
    },
    {
     "data": {
      "image/png": "[encoded data removed]",
      "text/plain": [
       "<Figure size 411.875x360 with 1 Axes>"
      ]
     },
     "metadata": {
      "needs_background": "light"
     },
     "output_type": "display_data"
    }
   ],
   "source": [
    "sns.displot(df, x=\"log_score\", hue = \"stars\", kind='kde')"
   ]
  },
  {
   "cell_type": "markdown",
   "id": "56512654",
   "metadata": {},
   "source": [
    "As we can see, the majority of the zero scores correspond to a star level of 0. This indicates that many players who played the game failed to achieve any stars and ended up with a score of zero. However, as we move further along, we can notice some patterns. Firstly, the (non-zero) scores corresponding to zero stars are more positively skewed compared to non-zero stars, indicating most players with zero stars had lower scores than players with non-zero stars. The scores corresponding to 2 stars are slightly less positively skewed compared to scores corresponding to one star, indicating that there are slightly more 2-star players with higher scores compared to 1-star players.The 3-star scores are noticeably negatively skewed, hinting that 3-star players generally score significantly higher than 2-star and 1-star (and of course zero star) players."
   ]
  },
  {
   "cell_type": "markdown",
   "id": "16a0b66a",
   "metadata": {},
   "source": [
    "In order to further plot the distribution of the scores conditional on the number of stars and stage_id, we can first plot the distribution of the stage_id to see if there are any significant patterns we need to be aware about. This will also provide us with insights as to how the stages are structured. "
   ]
  },
  {
   "cell_type": "code",
   "execution_count": 34,
   "id": "e61f3d65",
   "metadata": {},
   "outputs": [
    {
     "data": {
      "text/plain": [
       "<seaborn.axisgrid.FacetGrid at 0x7ff315830610>"
      ]
     },
     "execution_count": 34,
     "metadata": {},
     "output_type": "execute_result"
    },
    {
     "data": {
      "image/png": "[encoded data removed]",
      "text/plain": [
       "<Figure size 360x360 with 1 Axes>"
      ]
     },
     "metadata": {
      "needs_background": "light"
     },
     "output_type": "display_data"
    }
   ],
   "source": [
    "sns.displot(df, x=\"stage_id\",kind='kde')"
   ]
  },
  {
   "cell_type": "markdown",
   "id": "0e68d0dc",
   "metadata": {},
   "source": [
    "As we can see, we have two peaks when it comes to the distribution of the stage ids. Firstly, most of the plays correspond to stages below stage_id 500, with a few plays corresponding to stage_id 2000. This means we can divide our analysis into two separate sections, one corresponding to early stage data (stage_id < 500), and the other corresponding to late stage data (stage_id >=2000). "
   ]
  },
  {
   "cell_type": "code",
   "execution_count": 35,
   "id": "a2adbcc8",
   "metadata": {},
   "outputs": [],
   "source": [
    "early_stage_df = df[df['stage_id'] < 500]"
   ]
  },
  {
   "cell_type": "code",
   "execution_count": 36,
   "id": "2cbe5d3f",
   "metadata": {},
   "outputs": [],
   "source": [
    "late_stage_df = df[df['stage_id'] >= 2000]"
   ]
  },
  {
   "cell_type": "code",
   "execution_count": 37,
   "id": "c223ed68",
   "metadata": {},
   "outputs": [
    {
     "data": {
      "text/plain": [
       "<seaborn.axisgrid.FacetGrid at 0x7ff31533c670>"
      ]
     },
     "execution_count": 37,
     "metadata": {},
     "output_type": "execute_result"
    },
    {
     "data": {
      "image/png": "[encoded data removed]",
      "text/plain": [
       "<Figure size 411.875x360 with 1 Axes>"
      ]
     },
     "metadata": {
      "needs_background": "light"
     },
     "output_type": "display_data"
    }
   ],
   "source": [
    "sns.displot(early_stage_df, x=\"log_score\",hue='stars', kind='kde')"
   ]
  },
  {
   "cell_type": "code",
   "execution_count": 38,
   "id": "03fc2301",
   "metadata": {},
   "outputs": [
    {
     "data": {
      "text/plain": [
       "<seaborn.axisgrid.FacetGrid at 0x7ff315614f10>"
      ]
     },
     "execution_count": 38,
     "metadata": {},
     "output_type": "execute_result"
    },
    {
     "data": {
      "image/png": "[encoded data removed]",
      "text/plain": [
       "<Figure size 411.875x360 with 1 Axes>"
      ]
     },
     "metadata": {
      "needs_background": "light"
     },
     "output_type": "display_data"
    }
   ],
   "source": [
    "sns.displot(late_stage_df, x=\"log_score\",hue='stars', kind='kde')"
   ]
  },
  {
   "cell_type": "markdown",
   "id": "a7f2ac59",
   "metadata": {},
   "source": [
    "Looking at the two dataframes above, we can see a noticeable difference between\n",
    "the distribution of the log score conditional on early stage level and late stage\n",
    "level. Firstly, we notice that the early stage level distribution is very similar\n",
    "to the overall distribution of log scores regardless of stage level,with a high density of zero scoring individuals who have zero stars. This is unsurprising since most of the data in the data set corresponds to early stage\n",
    "levels (stage id <= 500). However, looking at the late stage distribution, we notice some significant changes. For example, we notice that no player regardless of the star level scored zero. We also notice that the distribution of\n",
    "the log score conditional on star level and late stage level is more negatively skewed than the distribution of the log score conditional on star level and early stage level. This indicates that scores are generally higher as players\n",
    "progress through later stages of the game. Nevertheless, this doesn’t mean that just because a player is in a late stage, they will achieve a star, as seen by a high density of zero-star scores at a late stage level."
   ]
  },
  {
   "cell_type": "code",
   "execution_count": null,
   "id": "fd0e061c",
   "metadata": {},
   "outputs": [],
   "source": []
  }
 ],
 "metadata": {
  "kernelspec": {
   "display_name": "Python 3",
   "language": "python",
   "name": "python3"
  },
  "language_info": {
   "codemirror_mode": {
    "name": "ipython",
    "version": 3
   },
   "file_extension": ".py",
   "mimetype": "text/x-python",
   "name": "python",
   "nbconvert_exporter": "python",
   "pygments_lexer": "ipython3",
   "version": "3.9.4"
  }
 },
 "nbformat": 4,
 "nbformat_minor": 5
}
